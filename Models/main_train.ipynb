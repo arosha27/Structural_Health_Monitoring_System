{
 "cells": [
  {
   "cell_type": "code",
   "execution_count": 1,
   "id": "60a5ebc4",
   "metadata": {},
   "outputs": [],
   "source": [
    "import matplotlib.pyplot as plt\n",
    "import seaborn as sns\n",
    "import numpy as np\n",
    "import pandas as pd\n",
    "import torch\n",
    "import torch.nn as nn\n",
    "import torch.optim as optim \n",
    "from sklearn.model_selection import train_test_split\n",
    "from sklearn.metrics import accuracy_score , precision_score , recall_score , f1_score\n",
    "from torch.utils.data import DataLoader, TensorDataset\n"
   ]
  },
  {
   "cell_type": "code",
   "execution_count": 2,
   "id": "69f11281",
   "metadata": {},
   "outputs": [],
   "source": [
    "# Import the model (assuming Models/models.py has HybridModel class)\n",
    "# at the top of your file\n",
    "import sys\n",
    "import os"
   ]
  },
  {
   "cell_type": "code",
   "execution_count": 4,
   "id": "771c52da",
   "metadata": {},
   "outputs": [],
   "source": [
    "# Go two levels up from this file to reach project root\n",
    "import os\n",
    "current_dir = os.getcwd()\n",
    "import sys\n",
    "sys.path.append(r\"E:\\ITSolera\\HMS\\Structural_Health_Monitoring_System\")\n",
    "\n",
    "from Models.models import HybridModel  # adjust path if needed\n"
   ]
  },
  {
   "cell_type": "code",
   "execution_count": 5,
   "id": "ebc27402",
   "metadata": {},
   "outputs": [],
   "source": [
    "\n",
    "#load\n",
    "\n",
    "v2_data = np.load(\"../Data/Processed/Training_Prepared_Data/V2_dataset.npz\")\n",
    "X2 = v2_data[\"X\"]\n",
    "y2 = v2_data[\"y\"]"
   ]
  },
  {
   "cell_type": "code",
   "execution_count": 6,
   "id": "7e4200c9",
   "metadata": {},
   "outputs": [],
   "source": [
    "#convert to tensors\n",
    "X = torch.tensor(X2, dtype=torch.float32)\n",
    "y = torch.tensor(y2, dtype=torch.long)"
   ]
  },
  {
   "cell_type": "code",
   "execution_count": 7,
   "id": "8ebed9ad",
   "metadata": {},
   "outputs": [],
   "source": [
    "\n",
    "#Split \n",
    "X_train, X_temp , y_train ,y_temp = train_test_split(X, y , test_size = 0.2 , stratify=y , random_state = 42)\n",
    "\n",
    "#Split\n",
    "X_val , X_test , y_val , y_test = train_test_split(X_temp , y_temp , test_size = 0.5 , random_state=42 , stratify=y_temp)"
   ]
  },
  {
   "cell_type": "code",
   "execution_count": 9,
   "id": "7b1b66f9",
   "metadata": {},
   "outputs": [],
   "source": [
    "# Save test data in compressed npz format\n",
    "np.savez_compressed(\n",
    "    \"../Data/Processed/Testing_Prepared_Data/V2_featured_test.npz\",\n",
    "    X_test=X_test.numpy(),\n",
    "    y_test=y_test.numpy()\n",
    ")"
   ]
  },
  {
   "cell_type": "code",
   "execution_count": 10,
   "id": "fa8cdb66",
   "metadata": {},
   "outputs": [],
   "source": [
    "# Create DataLoader with TesorDataset\n",
    "batch_size = 8\n",
    "train_dataset = TensorDataset(X_train, y_train)\n",
    "val_dataset = TensorDataset(X_val , y_val)\n",
    "train_loader = DataLoader(train_dataset, batch_size=batch_size, shuffle=True)\n",
    "val_loader = DataLoader(val_dataset , batch_size=batch_size , shuffle=False)"
   ]
  },
  {
   "cell_type": "code",
   "execution_count": 11,
   "id": "2eee7ec5",
   "metadata": {},
   "outputs": [],
   "source": [
    "# Best Params: {'cnn_channels': 32, 'lstm_hidden': 32, 'lstm_layers': 2, 'lr': 0.00017366050532753203, 'batch_size': 16}\n",
    "# Best CV Accuracy: 0.9604505037737048s\n",
    "\n",
    "\n",
    "model = HybridModel(\n",
    "    input_channels=19,\n",
    "    cnn_channels=32,\n",
    "    lstm_hidden=32,\n",
    "    lstm_layers=2,\n",
    "    num_classes=4\n",
    ")"
   ]
  },
  {
   "cell_type": "code",
   "execution_count": 12,
   "id": "f7a8e3b5",
   "metadata": {},
   "outputs": [],
   "source": [
    "\n",
    "# Early Stopping Helper\n",
    "class EarlyStopping:\n",
    "    def __init__(self, patience=5, delta=0.0):\n",
    "        self.patience = patience\n",
    "        self.delta = delta\n",
    "        self.best_score = None\n",
    "        self.counter = 0\n",
    "        self.early_stop = False\n",
    "        \n",
    "        \n",
    "    def __call__(self, val_loss):\n",
    "        score = -val_loss  # we minimize val_loss\n",
    "        if self.best_score is None:\n",
    "            self.best_score = score\n",
    "        elif score < self.best_score + self.delta:\n",
    "            self.counter += 1\n",
    "            if self.counter >= self.patience:\n",
    "                self.early_stop = True\n",
    "        else:\n",
    "            self.best_score = score\n",
    "            self.counter = 0\n"
   ]
  },
  {
   "cell_type": "code",
   "execution_count": 13,
   "id": "240685b6",
   "metadata": {},
   "outputs": [],
   "source": [
    "\n",
    "# Training Loop\n",
    "def train_with_early_stopping(model, train_loader, val_loader  , epochs = 50 , patience=5):\n",
    "    \n",
    "    criterion = nn.CrossEntropyLoss()\n",
    "    optimizer = optim.Adam(model.parameters(), lr=0.00017)\n",
    "    early_stopper = EarlyStopping(patience=patience)\n",
    "    \n",
    "    \n",
    "    train_losses =[]\n",
    "    val_losses = []\n",
    "    \n",
    "    \n",
    "    for epoch in range(epochs):\n",
    "        \n",
    "        # ----------Training----------\n",
    "        model.train()\n",
    "        running_loss = 0\n",
    "        for x_batch, y_batch in train_loader:\n",
    "            \n",
    "            optimizer.zero_grad()\n",
    "            outputs = model(x_batch)\n",
    "            loss = criterion(outputs, y_batch)\n",
    "            loss.backward()\n",
    "            optimizer.step()\n",
    "            running_loss += loss.item() * x_batch.size(0)\n",
    "        epoch_train_loss =running_loss / len(train_loader.dataset)\n",
    "        train_losses.append(epoch_train_loss)\n",
    "        \n",
    "        \n",
    "        \n",
    "        # --- Validation ---\n",
    "        model.eval()\n",
    "        val_running_loss = 0\n",
    "        y_true, y_pred = [], []\n",
    "        with torch.no_grad():\n",
    "            for X_batch, y_batch in val_loader:\n",
    "                \n",
    "                outputs = model(X_batch)\n",
    "                loss = criterion(outputs, y_batch)\n",
    "                val_running_loss += loss.item() * X_batch.size(0)\n",
    "\n",
    "                preds = torch.argmax(outputs, dim=1)\n",
    "                y_true.extend(y_batch.cpu().numpy())\n",
    "                y_pred.extend(preds.cpu().numpy())\n",
    "                \n",
    "        epoch_val_loss = val_running_loss / len(val_loader.dataset)\n",
    "        val_losses.append(epoch_val_loss)\n",
    "        \n",
    "        acc = accuracy_score(y_true, y_pred)\n",
    "        prec = precision_score(y_true, y_pred, average=\"weighted\", zero_division=0)\n",
    "        rec = recall_score(y_true, y_pred, average=\"weighted\", zero_division=0)\n",
    "        f1 = f1_score(y_true, y_pred, average=\"weighted\", zero_division=0)\n",
    "        \n",
    "        print(f\"Epoch {epoch+1}/{epochs} | \"\n",
    "              f\"Train Loss: {epoch_train_loss:.4f} | Val Loss: {epoch_val_loss:.4f} | \"\n",
    "              f\"Acc: {acc:.4f} | Prec: {prec:.4f} | Rec: {rec:.4f} | F1: {f1:.4f}\")\n",
    "        \n",
    "        \n",
    "        # Early stopping check\n",
    "        early_stopper(epoch_val_loss)\n",
    "        if early_stopper.early_stop:\n",
    "            print(\"Early stopping triggered.\")\n",
    "            break\n",
    "        \n",
    "        \n",
    "        \n",
    "            # --- Plot Loss ---\n",
    "    plt.figure(figsize=(8,5))\n",
    "    plt.plot(train_losses, label=\"Train Loss\")\n",
    "    plt.plot(val_losses, label=\"Val Loss\")\n",
    "    plt.xlabel(\"Epoch\")\n",
    "    plt.ylabel(\"Loss\")\n",
    "    plt.title(\"Training & Validation Loss\")\n",
    "    plt.legend()\n",
    "    plt.show()\n",
    "\n",
    "    return model\n"
   ]
  },
  {
   "cell_type": "code",
   "execution_count": 14,
   "id": "28450ddf",
   "metadata": {},
   "outputs": [
    {
     "name": "stdout",
     "output_type": "stream",
     "text": [
      "Epoch 1/50 | Train Loss: 1.1039 | Val Loss: 0.6958 | Acc: 0.8134 | Prec: 0.7570 | Rec: 0.8134 | F1: 0.7818\n",
      "Epoch 2/50 | Train Loss: 0.5046 | Val Loss: 0.3722 | Acc: 0.8731 | Prec: 0.8165 | Rec: 0.8731 | F1: 0.8423\n",
      "Epoch 3/50 | Train Loss: 0.3430 | Val Loss: 0.2804 | Acc: 0.8806 | Prec: 0.8327 | Rec: 0.8806 | F1: 0.8508\n",
      "Epoch 4/50 | Train Loss: 0.2718 | Val Loss: 0.3515 | Acc: 0.8806 | Prec: 0.8898 | Rec: 0.8806 | F1: 0.8566\n",
      "Epoch 5/50 | Train Loss: 0.2309 | Val Loss: 0.2294 | Acc: 0.9179 | Prec: 0.9275 | Rec: 0.9179 | F1: 0.9011\n",
      "Epoch 6/50 | Train Loss: 0.2147 | Val Loss: 0.1475 | Acc: 0.9403 | Prec: 0.9406 | Rec: 0.9403 | F1: 0.9390\n",
      "Epoch 7/50 | Train Loss: 0.1894 | Val Loss: 0.1309 | Acc: 0.9552 | Prec: 0.9569 | Rec: 0.9552 | F1: 0.9553\n",
      "Epoch 8/50 | Train Loss: 0.1688 | Val Loss: 0.1404 | Acc: 0.9254 | Prec: 0.9293 | Rec: 0.9254 | F1: 0.9227\n",
      "Epoch 9/50 | Train Loss: 0.1573 | Val Loss: 0.1087 | Acc: 0.9552 | Prec: 0.9574 | Rec: 0.9552 | F1: 0.9547\n",
      "Epoch 10/50 | Train Loss: 0.1545 | Val Loss: 0.0909 | Acc: 0.9776 | Prec: 0.9785 | Rec: 0.9776 | F1: 0.9777\n",
      "Epoch 11/50 | Train Loss: 0.1228 | Val Loss: 0.0983 | Acc: 0.9776 | Prec: 0.9781 | Rec: 0.9776 | F1: 0.9776\n",
      "Epoch 12/50 | Train Loss: 0.1301 | Val Loss: 0.1118 | Acc: 0.9478 | Prec: 0.9535 | Rec: 0.9478 | F1: 0.9480\n",
      "Epoch 13/50 | Train Loss: 0.1283 | Val Loss: 0.3381 | Acc: 0.9104 | Prec: 0.9216 | Rec: 0.9104 | F1: 0.8867\n",
      "Epoch 14/50 | Train Loss: 0.1187 | Val Loss: 0.0867 | Acc: 0.9627 | Prec: 0.9647 | Rec: 0.9627 | F1: 0.9627\n",
      "Epoch 15/50 | Train Loss: 0.1040 | Val Loss: 0.1865 | Acc: 0.9478 | Prec: 0.9561 | Rec: 0.9478 | F1: 0.9404\n",
      "Epoch 16/50 | Train Loss: 0.1137 | Val Loss: 0.0809 | Acc: 0.9701 | Prec: 0.9711 | Rec: 0.9701 | F1: 0.9703\n",
      "Epoch 17/50 | Train Loss: 0.0936 | Val Loss: 0.1078 | Acc: 0.9403 | Prec: 0.9485 | Rec: 0.9403 | F1: 0.9362\n",
      "Epoch 18/50 | Train Loss: 0.1032 | Val Loss: 0.0464 | Acc: 1.0000 | Prec: 1.0000 | Rec: 1.0000 | F1: 1.0000\n",
      "Epoch 19/50 | Train Loss: 0.0845 | Val Loss: 0.0498 | Acc: 0.9776 | Prec: 0.9782 | Rec: 0.9776 | F1: 0.9776\n",
      "Epoch 20/50 | Train Loss: 0.1033 | Val Loss: 0.0850 | Acc: 0.9552 | Prec: 0.9578 | Rec: 0.9552 | F1: 0.9546\n",
      "Epoch 21/50 | Train Loss: 0.1286 | Val Loss: 0.0704 | Acc: 0.9851 | Prec: 0.9853 | Rec: 0.9851 | F1: 0.9851\n",
      "Epoch 22/50 | Train Loss: 0.0917 | Val Loss: 0.0460 | Acc: 0.9851 | Prec: 0.9853 | Rec: 0.9851 | F1: 0.9851\n",
      "Epoch 23/50 | Train Loss: 0.1104 | Val Loss: 0.0633 | Acc: 0.9776 | Prec: 0.9793 | Rec: 0.9776 | F1: 0.9777\n",
      "Epoch 24/50 | Train Loss: 0.0792 | Val Loss: 0.0527 | Acc: 0.9701 | Prec: 0.9720 | Rec: 0.9701 | F1: 0.9700\n",
      "Epoch 25/50 | Train Loss: 0.0927 | Val Loss: 0.0362 | Acc: 0.9925 | Prec: 0.9927 | Rec: 0.9925 | F1: 0.9926\n",
      "Epoch 26/50 | Train Loss: 0.0758 | Val Loss: 0.0679 | Acc: 0.9776 | Prec: 0.9786 | Rec: 0.9776 | F1: 0.9775\n",
      "Epoch 27/50 | Train Loss: 0.0776 | Val Loss: 0.0355 | Acc: 0.9925 | Prec: 0.9927 | Rec: 0.9925 | F1: 0.9926\n",
      "Epoch 28/50 | Train Loss: 0.0927 | Val Loss: 0.0503 | Acc: 0.9925 | Prec: 0.9927 | Rec: 0.9925 | F1: 0.9925\n",
      "Epoch 29/50 | Train Loss: 0.0857 | Val Loss: 0.0657 | Acc: 0.9627 | Prec: 0.9671 | Rec: 0.9627 | F1: 0.9617\n",
      "Epoch 30/50 | Train Loss: 0.0823 | Val Loss: 0.0938 | Acc: 0.9627 | Prec: 0.9641 | Rec: 0.9627 | F1: 0.9627\n",
      "Epoch 31/50 | Train Loss: 0.1175 | Val Loss: 0.0750 | Acc: 0.9627 | Prec: 0.9639 | Rec: 0.9627 | F1: 0.9621\n",
      "Epoch 32/50 | Train Loss: 0.0824 | Val Loss: 0.0369 | Acc: 1.0000 | Prec: 1.0000 | Rec: 1.0000 | F1: 1.0000\n",
      "Epoch 33/50 | Train Loss: 0.0723 | Val Loss: 0.0381 | Acc: 0.9851 | Prec: 0.9851 | Rec: 0.9851 | F1: 0.9851\n",
      "Epoch 34/50 | Train Loss: 0.0688 | Val Loss: 0.0345 | Acc: 1.0000 | Prec: 1.0000 | Rec: 1.0000 | F1: 1.0000\n",
      "Epoch 35/50 | Train Loss: 0.0958 | Val Loss: 0.4457 | Acc: 0.8731 | Prec: 0.8804 | Rec: 0.8731 | F1: 0.8615\n",
      "Epoch 36/50 | Train Loss: 0.1003 | Val Loss: 0.0328 | Acc: 0.9925 | Prec: 0.9927 | Rec: 0.9925 | F1: 0.9926\n",
      "Epoch 37/50 | Train Loss: 0.0631 | Val Loss: 0.0435 | Acc: 0.9851 | Prec: 0.9855 | Rec: 0.9851 | F1: 0.9849\n",
      "Epoch 38/50 | Train Loss: 0.0878 | Val Loss: 0.0734 | Acc: 0.9776 | Prec: 0.9782 | Rec: 0.9776 | F1: 0.9776\n",
      "Epoch 39/50 | Train Loss: 0.0867 | Val Loss: 0.0320 | Acc: 0.9925 | Prec: 0.9927 | Rec: 0.9925 | F1: 0.9926\n",
      "Epoch 40/50 | Train Loss: 0.0600 | Val Loss: 0.0397 | Acc: 0.9776 | Prec: 0.9781 | Rec: 0.9776 | F1: 0.9776\n",
      "Epoch 41/50 | Train Loss: 0.0785 | Val Loss: 0.0743 | Acc: 0.9776 | Prec: 0.9802 | Rec: 0.9776 | F1: 0.9781\n",
      "Epoch 42/50 | Train Loss: 0.0805 | Val Loss: 0.1195 | Acc: 0.9627 | Prec: 0.9652 | Rec: 0.9627 | F1: 0.9622\n",
      "Epoch 43/50 | Train Loss: 0.0603 | Val Loss: 0.0295 | Acc: 0.9925 | Prec: 0.9927 | Rec: 0.9925 | F1: 0.9926\n",
      "Epoch 44/50 | Train Loss: 0.0702 | Val Loss: 0.0339 | Acc: 0.9851 | Prec: 0.9853 | Rec: 0.9851 | F1: 0.9851\n",
      "Epoch 45/50 | Train Loss: 0.0693 | Val Loss: 0.0419 | Acc: 0.9776 | Prec: 0.9786 | Rec: 0.9776 | F1: 0.9775\n",
      "Epoch 46/50 | Train Loss: 0.0567 | Val Loss: 0.0598 | Acc: 0.9851 | Prec: 0.9855 | Rec: 0.9851 | F1: 0.9849\n",
      "Epoch 47/50 | Train Loss: 0.0687 | Val Loss: 0.0558 | Acc: 0.9701 | Prec: 0.9711 | Rec: 0.9701 | F1: 0.9703\n",
      "Epoch 48/50 | Train Loss: 0.0930 | Val Loss: 0.1303 | Acc: 0.9403 | Prec: 0.9436 | Rec: 0.9403 | F1: 0.9353\n",
      "Epoch 49/50 | Train Loss: 0.0619 | Val Loss: 0.0295 | Acc: 0.9851 | Prec: 0.9855 | Rec: 0.9851 | F1: 0.9850\n",
      "Epoch 50/50 | Train Loss: 0.0593 | Val Loss: 0.0250 | Acc: 0.9925 | Prec: 0.9927 | Rec: 0.9925 | F1: 0.9926\n"
     ]
    },
    {
     "data": {
      "image/png": "[encoded data removed]",
      "text/plain": [
       "<Figure size 800x500 with 1 Axes>"
      ]
     },
     "metadata": {},
     "output_type": "display_data"
    },
    {
     "data": {
      "text/plain": [
       "HybridModel(\n",
       "  (cnn): Sequential(\n",
       "    (0): Conv1d(19, 32, kernel_size=(3,), stride=(1,), padding=(1,))\n",
       "    (1): ReLU()\n",
       "    (2): Conv1d(32, 32, kernel_size=(3,), stride=(1,), padding=(1,))\n",
       "    (3): ReLU()\n",
       "    (4): AdaptiveAvgPool1d(output_size=32)\n",
       "  )\n",
       "  (lstm): LSTM(32, 32, num_layers=2, batch_first=True, bidirectional=True)\n",
       "  (attention): Attention(\n",
       "    (attn): Linear(in_features=64, out_features=1, bias=True)\n",
       "  )\n",
       "  (fc): Linear(in_features=64, out_features=4, bias=True)\n",
       ")"
      ]
     },
     "execution_count": 14,
     "metadata": {},
     "output_type": "execute_result"
    }
   ],
   "source": [
    "\n",
    "# model = HybridModel(input_channels=1, cnn_channels=32, lstm_hidden=64, lstm_layers=1, num_classes=4).to(device)\n",
    "train_with_early_stopping(model, train_loader, val_loader, epochs=50, patience=7)\n"
   ]
  },
  {
   "cell_type": "code",
   "execution_count": 16,
   "id": "851f2685",
   "metadata": {},
   "outputs": [],
   "source": [
    "\n",
    "#uncomment the one you trained the model .\n",
    "torch.save(model.state_dict() , \"../Models/Trained_models/V2_Best_model.pth\") # Acc: 0.9776\n",
    "# torch.save(model.state_dict() , \"Models/Trained_models/V2_model.pth\") #Acc: 0.9291"
   ]
  }
 ],
 "metadata": {
  "kernelspec": {
   "display_name": "scotland_project",
   "language": "python",
   "name": "python3"
  },
  "language_info": {
   "codemirror_mode": {
    "name": "ipython",
    "version": 3
   },
   "file_extension": ".py",
   "mimetype": "text/x-python",
   "name": "python",
   "nbconvert_exporter": "python",
   "pygments_lexer": "ipython3",
   "version": "3.13.5"
  }
 },
 "nbformat": 4,
 "nbformat_minor": 5
}
